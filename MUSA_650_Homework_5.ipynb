{
 "cells": [
  {
   "cell_type": "markdown",
   "metadata": {},
   "source": [
    " ## HW5 - EuroSAT Land Use and Land Cover Classification using Deep Learning\n",
    " \n",
    "In this homework your task is to implement deep learning models to solve a typical problem in satellite imaging  using a benchmark dataset. The homework was designed to make you work on increasingly more complex models. We hope that the homework will be very helpful to improve your skills and knowledge in deep learning!\n"
   ]
  },
  {
   "cell_type": "markdown",
   "metadata": {},
   "source": [
    "### S1:\n",
    "\n",
    "- Visit the EuroSAT data description page and download the data: https://github.com/phelber/eurosat\n",
    "\n",
    "- Split the data into training (50%) and testing sets (50%), stratified on class labels (equal percentage of each class type in train and test sets).\n"
   ]
  },
  {
   "cell_type": "markdown",
   "metadata": {},
   "source": [
    "### S2:\n",
    "\n",
    "- Convert each RBG image to grayscale and flatten the images into a data matrix (n x p: n = #samples, p = #pixels in each image)\n",
    "\n",
    "- Implement a first deep learning model (M.1) using a fully connected network with a single fully connected layer (i.e: input layer + fully connected layer as the output layer). \n",
    "\n",
    "Q2.1: Calculate classification accuracy on the test data.  "
   ]
  },
  {
   "cell_type": "markdown",
   "metadata": {},
   "source": [
    "### S3:\n",
    "\n",
    "- Implement a second deep learning model (M.2) adding an additional fully connected hidden layer (with an arbitrary number of nodes) to the previous model. \n",
    "\n",
    "Q3.1: Calculate classification accuracy on the test data.  "
   ]
  },
  {
   "cell_type": "markdown",
   "metadata": {},
   "source": [
    "### S4:\n",
    "\n",
    "- Implement a third deep learning model (M.3) adding two additional fully connected hidden layers (with arbitrary number of nodes) as well as drop-out layers to the previous model. \n",
    "\n",
    "Q4.1: Calculate classification accuracy on the test data.\n",
    "\n",
    "Q4.2: Compare against previous models. Which model was the \"best\"? Why?"
   ]
  },
  {
   "cell_type": "markdown",
   "metadata": {},
   "source": [
    "### S5:\n",
    "\n",
    "- Using RGB images (without vectorizing them), implement a fourth CNN model (M.4) that includes the following layers: Conv2D, MaxPooling2D, Dropout, Flatten, Dense. \n",
    "\n",
    "Q5.1: Calculate classification accuracy on the test data.\n",
    "\n",
    "Q5.2: Compare against previous models. Which model was the \"best\"? Why?"
   ]
  },
  {
   "cell_type": "markdown",
   "metadata": {},
   "source": [
    "### S6:\n",
    "\n",
    "- Using RGB images (without vectorizing them), implement a fifth deep learning model (M.5) targeting accuracy that will outperform all previous models. You are free to use any tools and techniques, as well as pre-trained models for transfer learning. \n",
    "\n",
    "Q6.1: Describe the model you built, and why you chose it.\n",
    "\n",
    "Q6.2: Calculate classification accuracy on the test data.\n",
    "\n",
    "Q6.3: Compare against previous models. Which model was the \"best\"? Why?\n",
    "\n",
    "Q6.4: What are the two classes with the highest labeling error? Explain using data and showing mis-classified examples."
   ]
  },
  {
   "cell_type": "markdown",
   "metadata": {},
   "source": [
    "### S7:\n",
    "\n",
    "- Apply your best model on multispectral images. \n",
    "\n",
    "Q7.1: Calculate classification accuracy on the test data.\n",
    "\n",
    "Q7.2: Compare against results using RGB images."
   ]
  }
 ],
 "metadata": {
  "kernelspec": {
   "display_name": "Python 3",
   "language": "python",
   "name": "python3"
  },
  "language_info": {
   "codemirror_mode": {
    "name": "ipython",
    "version": 3
   },
   "file_extension": ".py",
   "mimetype": "text/x-python",
   "name": "python",
   "nbconvert_exporter": "python",
   "pygments_lexer": "ipython3",
   "version": "3.9.2"
  }
 },
 "nbformat": 4,
 "nbformat_minor": 2
}
